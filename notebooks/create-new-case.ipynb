{
 "cells": [
  {
   "cell_type": "code",
   "execution_count": 1,
   "id": "019abf2f-cba0-4d61-adb2-d0c88c44c3e0",
   "metadata": {},
   "outputs": [],
   "source": [
    "%load_ext autoreload\n",
    "%autoreload 2"
   ]
  },
  {
   "cell_type": "code",
   "execution_count": 2,
   "id": "175514da-e3e4-4591-8dc6-0cb3f03b7ac8",
   "metadata": {},
   "outputs": [],
   "source": [
    "import socket\n",
    "import fosi_smyle\n",
    "\n",
    "this_notebook = 'create-new-case.ipynb'\n",
    "assert 'cheyenne' in socket.gethostname(), (\n",
    "    'this notebook must be run on cheyenne login node'\n",
    ")"
   ]
  },
  {
   "cell_type": "code",
   "execution_count": 3,
   "id": "66cef2e0-69dc-4fc9-a20b-7a0cf0c85d60",
   "metadata": {},
   "outputs": [],
   "source": [
    "case = f'{fosi_smyle.refcase}.fe-fert.test.001'\n",
    "fe_fert_forcing_file = '/glade/work/mclong/onets-cases/data/forcing/fe-fert-forcing/fe-fert-text.nc'"
   ]
  },
  {
   "cell_type": "code",
   "execution_count": 4,
   "id": "586c5e2b-2fc9-4c61-9437-54b1c7a0760e",
   "metadata": {},
   "outputs": [
    {
     "name": "stdout",
     "output_type": "stream",
     "text": [
      " Successfully created new case g.e22.GOMIPECOIAF_JRA-1p4-2018.TL319_g17.SMYLE.005.fe-fert.test.001 from clone case g.e22.GOMIPECOIAF_JRA-1p4-2018.TL319_g17.SMYLE.005 \n",
      "Setting Environment OMP_STACKSIZE=1024M\n",
      "Setting Environment TMPDIR=/glade/scratch/mclong\n",
      "Setting Environment MPI_TYPE_DEPTH=16\n",
      "Setting Environment MPI_IB_CONGESTED=1\n",
      "Setting resource.RLIMIT_STACK to -1 from (307200000, -1)\n"
     ]
    },
    {
     "name": "stderr",
     "output_type": "stream",
     "text": [
      "/glade/work/mclong/onets-cases/cesm-cases/g.e22.GOMIPECOIAF_JRA-1p4-2018.TL319_g17.SMYLE.005.fe-fert.test.001/env_mach_specific.xml already exists, delete to replace\n",
      "/glade/work/mclong/onets-cases/cesm-cases/g.e22.GOMIPECOIAF_JRA-1p4-2018.TL319_g17.SMYLE.005.fe-fert.test.001/env_mach_specific.xml already exists, delete to replace\n"
     ]
    },
    {
     "name": "stdout",
     "output_type": "stream",
     "text": [
      "job is case.run USER_REQUESTED_WALLTIME None USER_REQUESTED_QUEUE regular WALLTIME_FORMAT %H:%M:%S\n",
      "Creating batch scripts\n",
      "Writing case.run script from input template /glade/work/klindsay/cesm2_tags/cesm2.2.0/cime/config/cesm/machines/template.case.run\n",
      "Creating file .case.run\n",
      "Writing case.st_archive script from input template /glade/work/klindsay/cesm2_tags/cesm2.2.0/cime/config/cesm/machines/template.st_archive\n",
      "Creating file case.st_archive\n",
      "If an old case build already exists, might want to run 'case.build --clean' before building\n",
      "You can now run './preview_run' to get more info on how your case will be run\n"
     ]
    },
    {
     "name": "stderr",
     "output_type": "stream",
     "text": [
      "INFO: Running consistency check for /glade/u/home/mclong/codes/onets-cases/notebooks/SourceMods/src.pop/diagnostics_latest.yaml\n",
      "INFO: Writing /glade/work/mclong/onets-cases/cesm-cases/g.e22.GOMIPECOIAF_JRA-1p4-2018.TL319_g17.SMYLE.005.fe-fert.test.001/SourceMods/src.pop/diagnostics_latest.json\n"
     ]
    },
    {
     "name": "stdout",
     "output_type": "stream",
     "text": [
      "Setting Environment OMP_STACKSIZE=1024M\n",
      "Setting Environment TMPDIR=/glade/scratch/mclong\n",
      "Setting Environment MPI_TYPE_DEPTH=16\n",
      "Setting Environment MPI_IB_CONGESTED=1\n",
      "Setting resource.RLIMIT_STACK to -1 from (307200000, -1)\n",
      "Machine/Decomp/Pes configuration has already been done ...skipping\n",
      "If an old case build already exists, might want to run 'case.build --clean' before building\n",
      "You can now run './preview_run' to get more info on how your case will be run\n",
      "Setting Environment OMP_STACKSIZE=1024M\n",
      "Setting Environment TMPDIR=/glade/scratch/mclong\n",
      "Setting Environment MPI_TYPE_DEPTH=16\n",
      "Setting Environment MPI_IB_CONGESTED=1\n",
      "Setting resource.RLIMIT_STACK to -1 from (307200000, -1)\n",
      "GET_REFCASE is false, the user is expected to stage the refcase to the run directory.\n",
      "Creating component namelists\n",
      "  2022-08-23 12:29:14 atm \n",
      "   Calling /glade/work/klindsay/cesm2_tags/cesm2.2.0/cime/src/components/data_comps_mct/datm/cime_config/buildnml\n",
      "  2022-08-23 12:29:14 lnd \n",
      "   Calling /glade/work/klindsay/cesm2_tags/cesm2.2.0/cime/src/components/stub_comps_mct/slnd/cime_config/buildnml\n",
      "  2022-08-23 12:29:14 ice \n",
      "   Calling /glade/work/klindsay/cesm2_tags/cesm2.2.0/cime/../components/cice//cime_config/buildnml\n",
      "     ...buildnml calling cice buildcpp to set build time options\n",
      "  2022-08-23 12:29:15 ocn \n",
      "   Calling /glade/work/klindsay/cesm2_tags/cesm2.2.0/cime/../components/pop//cime_config/buildnml\n",
      "     ... buildnml: calling pop buildcpp to set build time options\n",
      "  2022-08-23 12:29:17 rof \n",
      "   Calling /glade/work/klindsay/cesm2_tags/cesm2.2.0/cime/src/components/data_comps_mct/drof/cime_config/buildnml\n",
      "  2022-08-23 12:29:17 glc \n",
      "   Calling /glade/work/klindsay/cesm2_tags/cesm2.2.0/cime/src/components/stub_comps_mct/sglc/cime_config/buildnml\n",
      "  2022-08-23 12:29:17 wav \n",
      "   Calling /glade/work/klindsay/cesm2_tags/cesm2.2.0/cime/../components/ww3//cime_config/buildnml\n",
      "  2022-08-23 12:29:17 iac \n",
      "   Running /glade/work/klindsay/cesm2_tags/cesm2.2.0/cime/src/components/stub_comps_mct/siac/cime_config/buildnml \n",
      "  2022-08-23 12:29:17 esp \n",
      "   Calling /glade/work/klindsay/cesm2_tags/cesm2.2.0/cime/src/components/stub_comps_mct/sesp/cime_config/buildnml\n",
      "  2022-08-23 12:29:17 cpl \n",
      "   Calling /glade/work/klindsay/cesm2_tags/cesm2.2.0/cime/src/drivers/mct/cime_config/buildnml\n"
     ]
    },
    {
     "name": "stderr",
     "output_type": "stream",
     "text": [
      "Traceback (most recent call last):\n",
      "  File \"/ncar/opt/sam/sam_validate.py\", line 117, in <module>\n",
      "    print_shadow_info(user)\n",
      "  File \"/ncar/opt/sam/sam_validate.py\", line 80, in print_shadow_info\n",
      "    time.localtime(time.time())),\n",
      "IOError: [Errno 32] Broken pipe\n"
     ]
    },
    {
     "name": "stdout",
     "output_type": "stream",
     "text": [
      "Submitting command to PBS using account NEOL0004:\n",
      "    ./case.build\n",
      "\n",
      "Waiting for job 5853050.chadmin1.ib0.cheyenne.ucar.edu to start ... \n",
      "\n",
      "\n",
      "Building case in directory /glade/work/mclong/onets-cases/cesm-cases/g.e22.GOMIPECOIAF_JRA-1p4-2018.TL319_g17.SMYLE.005.fe-fert.test.001\n",
      "sharedlib_only is False\n",
      "model_only is False\n",
      "Setting Environment OMP_STACKSIZE=1024M\n",
      "Setting Environment TMPDIR=/glade/scratch/mclong\n",
      "Setting Environment MPI_TYPE_DEPTH=16\n",
      "Setting Environment MPI_IB_CONGESTED=1\n",
      "Setting resource.RLIMIT_STACK to -1 from (-1, -1)\n",
      "Generating component namelists as part of build\n",
      "GET_REFCASE is false, the user is expected to stage the refcase to the run directory.\n",
      "Creating component namelists\n",
      "  2022-08-23 12:29:35 atm \n",
      "   Calling /glade/work/klindsay/cesm2_tags/cesm2.2.0/cime/src/components/data_comps_mct/datm/cime_config/buildnml\n",
      "  2022-08-23 12:29:35 lnd \n",
      "   Calling /glade/work/klindsay/cesm2_tags/cesm2.2.0/cime/src/components/stub_comps_mct/slnd/cime_config/buildnml\n",
      "  2022-08-23 12:29:35 ice \n",
      "   Calling /glade/work/klindsay/cesm2_tags/cesm2.2.0/cime/../components/cice//cime_config/buildnml\n",
      "     ...buildnml calling cice buildcpp to set build time options\n",
      "  2022-08-23 12:29:35 ocn \n",
      "   Calling /glade/work/klindsay/cesm2_tags/cesm2.2.0/cime/../components/pop//cime_config/buildnml\n",
      "     ... buildnml: calling pop buildcpp to set build time options\n",
      "  2022-08-23 12:29:37 rof \n",
      "   Calling /glade/work/klindsay/cesm2_tags/cesm2.2.0/cime/src/components/data_comps_mct/drof/cime_config/buildnml\n",
      "  2022-08-23 12:29:37 glc \n",
      "   Calling /glade/work/klindsay/cesm2_tags/cesm2.2.0/cime/src/components/stub_comps_mct/sglc/cime_config/buildnml\n",
      "  2022-08-23 12:29:37 wav \n",
      "   Calling /glade/work/klindsay/cesm2_tags/cesm2.2.0/cime/../components/ww3//cime_config/buildnml\n",
      "  2022-08-23 12:29:38 iac \n",
      "   Running /glade/work/klindsay/cesm2_tags/cesm2.2.0/cime/src/components/stub_comps_mct/siac/cime_config/buildnml \n",
      "  2022-08-23 12:29:38 esp \n",
      "   Calling /glade/work/klindsay/cesm2_tags/cesm2.2.0/cime/src/components/stub_comps_mct/sesp/cime_config/buildnml\n",
      "  2022-08-23 12:29:38 cpl \n",
      "   Calling /glade/work/klindsay/cesm2_tags/cesm2.2.0/cime/src/drivers/mct/cime_config/buildnml\n",
      "Building gptl with output to file /glade/scratch/mclong/g.e22.GOMIPECOIAF_JRA-1p4-2018.TL319_g17.SMYLE.005.fe-fert.test.001/bld/gptl.bldlog.220823-122934\n",
      "   Calling /glade/work/klindsay/cesm2_tags/cesm2.2.0/cime/src/build_scripts/buildlib.gptl\n",
      "Building mct with output to file /glade/scratch/mclong/g.e22.GOMIPECOIAF_JRA-1p4-2018.TL319_g17.SMYLE.005.fe-fert.test.001/bld/mct.bldlog.220823-122934\n",
      "   Calling /glade/work/klindsay/cesm2_tags/cesm2.2.0/cime/src/build_scripts/buildlib.mct\n",
      "Building pio with output to file /glade/scratch/mclong/g.e22.GOMIPECOIAF_JRA-1p4-2018.TL319_g17.SMYLE.005.fe-fert.test.001/bld/pio.bldlog.220823-122934\n",
      "   Calling /glade/work/klindsay/cesm2_tags/cesm2.2.0/cime/src/build_scripts/buildlib.pio\n",
      "Component pio build complete with 2 warnings\n",
      "Building csm_share with output to file /glade/scratch/mclong/g.e22.GOMIPECOIAF_JRA-1p4-2018.TL319_g17.SMYLE.005.fe-fert.test.001/bld/csm_share.bldlog.220823-122934\n",
      "   Calling /glade/work/klindsay/cesm2_tags/cesm2.2.0/cime/src/build_scripts/buildlib.csm_share\n",
      "Component csm_share build complete with 20 warnings\n",
      "         - Building atm Library \n",
      "Building atm with output to /glade/scratch/mclong/g.e22.GOMIPECOIAF_JRA-1p4-2018.TL319_g17.SMYLE.005.fe-fert.test.001/bld/atm.bldlog.220823-122934\n",
      "         - Building lnd Library \n",
      "Building lnd with output to /glade/scratch/mclong/g.e22.GOMIPECOIAF_JRA-1p4-2018.TL319_g17.SMYLE.005.fe-fert.test.001/bld/lnd.bldlog.220823-122934\n",
      "         - Building ice Library \n",
      "Building ice with output to /glade/scratch/mclong/g.e22.GOMIPECOIAF_JRA-1p4-2018.TL319_g17.SMYLE.005.fe-fert.test.001/bld/ice.bldlog.220823-122934\n",
      "         - Building ocn Library \n",
      "Building ocn with output to /glade/scratch/mclong/g.e22.GOMIPECOIAF_JRA-1p4-2018.TL319_g17.SMYLE.005.fe-fert.test.001/bld/ocn.bldlog.220823-122934\n",
      "         - Building rof Library \n",
      "Building rof with output to /glade/scratch/mclong/g.e22.GOMIPECOIAF_JRA-1p4-2018.TL319_g17.SMYLE.005.fe-fert.test.001/bld/rof.bldlog.220823-122934\n",
      "         - Building glc Library \n",
      "Building glc with output to /glade/scratch/mclong/g.e22.GOMIPECOIAF_JRA-1p4-2018.TL319_g17.SMYLE.005.fe-fert.test.001/bld/glc.bldlog.220823-122934\n",
      "         - Building wav Library \n",
      "Building wav with output to /glade/scratch/mclong/g.e22.GOMIPECOIAF_JRA-1p4-2018.TL319_g17.SMYLE.005.fe-fert.test.001/bld/wav.bldlog.220823-122934\n",
      "         - Building iac Library \n",
      "Building iac with output to /glade/scratch/mclong/g.e22.GOMIPECOIAF_JRA-1p4-2018.TL319_g17.SMYLE.005.fe-fert.test.001/bld/iac.bldlog.220823-122934\n",
      "         - Building esp Library \n",
      "Building esp with output to /glade/scratch/mclong/g.e22.GOMIPECOIAF_JRA-1p4-2018.TL319_g17.SMYLE.005.fe-fert.test.001/bld/esp.bldlog.220823-122934\n",
      "siac built in 1.617518 seconds\n",
      "slnd built in 1.709560 seconds\n",
      "sglc built in 1.814795 seconds\n",
      "sesp built in 1.983549 seconds\n",
      "drof built in 4.001832 seconds\n",
      "datm built in 6.522489 seconds\n",
      "ww built in 32.134870 seconds\n",
      "Component ice build complete with 1 warnings\n",
      "cice built in 75.886652 seconds\n",
      "Component ocn build complete with 13 warnings\n",
      "pop built in 421.127582 seconds\n",
      "Building cesm from /glade/work/klindsay/cesm2_tags/cesm2.2.0/cime/src/drivers/mct/cime_config/buildexe with output to /glade/scratch/mclong/g.e22.GOMIPECOIAF_JRA-1p4-2018.TL319_g17.SMYLE.005.fe-fert.test.001/bld/cesm.bldlog.220823-122934 \n",
      "Time spent not building: 5.063269 sec\n",
      "Time spent building: 604.204921 sec\n",
      "MODEL BUILD HAS FINISHED SUCCESSFULLY\n"
     ]
    },
    {
     "name": "stderr",
     "output_type": "stream",
     "text": [
      "\n",
      "env_batch.xml appears to have changed, regenerating batch scripts\n",
      "manual edits to these file will be lost!\n",
      "\n"
     ]
    },
    {
     "name": "stdout",
     "output_type": "stream",
     "text": [
      "Creating batch scripts\n",
      "Writing case.run script from input template /glade/work/klindsay/cesm2_tags/cesm2.2.0/cime/config/cesm/machines/template.case.run\n",
      "Creating file .case.run\n",
      "Writing case.st_archive script from input template /glade/work/klindsay/cesm2_tags/cesm2.2.0/cime/config/cesm/machines/template.st_archive\n",
      "Creating file case.st_archive\n",
      "Setting Environment OMP_STACKSIZE=1024M\n",
      "Setting Environment TMPDIR=/glade/scratch/mclong\n",
      "Setting Environment MPI_TYPE_DEPTH=16\n",
      "Setting Environment MPI_IB_CONGESTED=1\n",
      "Setting resource.RLIMIT_STACK to -1 from (307200000, -1)\n",
      "GET_REFCASE is false, the user is expected to stage the refcase to the run directory.\n",
      "Creating component namelists\n",
      "  2022-08-23 12:40:04 atm \n",
      "   Calling /glade/work/klindsay/cesm2_tags/cesm2.2.0/cime/src/components/data_comps_mct/datm/cime_config/buildnml\n",
      "  2022-08-23 12:40:05 lnd \n",
      "   Calling /glade/work/klindsay/cesm2_tags/cesm2.2.0/cime/src/components/stub_comps_mct/slnd/cime_config/buildnml\n",
      "  2022-08-23 12:40:05 ice \n",
      "   Calling /glade/work/klindsay/cesm2_tags/cesm2.2.0/cime/../components/cice//cime_config/buildnml\n",
      "  2022-08-23 12:40:05 ocn \n",
      "   Calling /glade/work/klindsay/cesm2_tags/cesm2.2.0/cime/../components/pop//cime_config/buildnml\n",
      "  2022-08-23 12:40:06 rof \n",
      "   Calling /glade/work/klindsay/cesm2_tags/cesm2.2.0/cime/src/components/data_comps_mct/drof/cime_config/buildnml\n",
      "  2022-08-23 12:40:06 glc \n",
      "   Calling /glade/work/klindsay/cesm2_tags/cesm2.2.0/cime/src/components/stub_comps_mct/sglc/cime_config/buildnml\n",
      "  2022-08-23 12:40:06 wav \n",
      "   Calling /glade/work/klindsay/cesm2_tags/cesm2.2.0/cime/../components/ww3//cime_config/buildnml\n",
      "  2022-08-23 12:40:06 iac \n",
      "   Running /glade/work/klindsay/cesm2_tags/cesm2.2.0/cime/src/components/stub_comps_mct/siac/cime_config/buildnml \n",
      "  2022-08-23 12:40:06 esp \n",
      "   Calling /glade/work/klindsay/cesm2_tags/cesm2.2.0/cime/src/components/stub_comps_mct/sesp/cime_config/buildnml\n",
      "  2022-08-23 12:40:06 cpl \n",
      "   Calling /glade/work/klindsay/cesm2_tags/cesm2.2.0/cime/src/drivers/mct/cime_config/buildnml\n",
      "Checking that inputdata is available as part of case submission\n",
      "Setting Environment OMP_STACKSIZE=1024M\n",
      "Setting Environment TMPDIR=/glade/scratch/mclong\n",
      "Setting Environment MPI_TYPE_DEPTH=16\n",
      "Setting Environment MPI_IB_CONGESTED=1\n",
      "Setting resource.RLIMIT_STACK to -1 from (-1, -1)\n",
      "Loading input file list: 'Buildconf/cpl.input_data_list'\n",
      "Loading input file list: 'Buildconf/pop.input_data_list'\n",
      "Loading input file list: 'Buildconf/ww3.input_data_list'\n",
      "Loading input file list: 'Buildconf/datm.input_data_list'\n",
      "Loading input file list: 'Buildconf/drof.input_data_list'\n",
      "Loading input file list: 'Buildconf/cice.input_data_list'\n",
      "GET_REFCASE is false, the user is expected to stage the refcase to the run directory.\n",
      "GET_REFCASE is false, the user is expected to stage the refcase to the run directory.\n",
      "Creating component namelists\n",
      "  2022-08-23 12:40:08 atm \n",
      "  2022-08-23 12:40:08 lnd \n",
      "  2022-08-23 12:40:08 ice \n",
      "  2022-08-23 12:40:08 ocn \n",
      "  2022-08-23 12:40:08 rof \n",
      "  2022-08-23 12:40:08 glc \n",
      "  2022-08-23 12:40:08 wav \n",
      "  2022-08-23 12:40:08 iac \n",
      "  2022-08-23 12:40:08 esp \n",
      "  2022-08-23 12:40:08 cpl \n",
      "Check case OK\n",
      "Submitting job script qsub -q regular -l walltime=12:00:00 -A P93300670 -m ea -v ARGS_FOR_SCRIPT='--resubmit' .case.run\n"
     ]
    },
    {
     "name": "stderr",
     "output_type": "stream",
     "text": [
      "submit_jobs case.run\n",
      "Submit job case.run\n"
     ]
    },
    {
     "name": "stdout",
     "output_type": "stream",
     "text": [
      "Submitted job id is 5854205.chadmin1.ib0.cheyenne.ucar.edu\n",
      "Submitting job script qsub -q regular -l walltime=12:00:00 -A P93300670  -W depend=afterok:5854205.chadmin1.ib0.cheyenne.ucar.edu -m ea -v ARGS_FOR_SCRIPT='--resubmit' case.st_archive\n"
     ]
    },
    {
     "name": "stderr",
     "output_type": "stream",
     "text": [
      "Submit job case.st_archive\n"
     ]
    },
    {
     "name": "stdout",
     "output_type": "stream",
     "text": [
      "Submitted job id is 5854206.chadmin1.ib0.cheyenne.ucar.edu\n",
      "Submitted job case.run with id 5854205.chadmin1.ib0.cheyenne.ucar.edu\n",
      "Submitted job case.st_archive with id 5854206.chadmin1.ib0.cheyenne.ucar.edu\n"
     ]
    }
   ],
   "source": [
    "fosi_smyle.create_clone(\n",
    "    case=case,\n",
    "    fe_fert_forcing_file=fe_fert_forcing_file,\n",
    "    alk_forcing_file='none',\n",
    "    refdate=\"0347-01-01\",\n",
    "    stop_n=6,\n",
    "    stop_option=\"nmonth\",\n",
    "    job_queue=\"regular\",\n",
    "    wallclock=\"12:00:00\",\n",
    "    project=\"P93300670\",\n",
    "    clobber=True,\n",
    "    submit=True,\n",
    ")"
   ]
  }
 ],
 "metadata": {
  "kernelspec": {
   "display_name": "Python [conda env:miniconda3-onets]",
   "language": "python",
   "name": "conda-env-miniconda3-onets-py"
  },
  "language_info": {
   "codemirror_mode": {
    "name": "ipython",
    "version": 3
   },
   "file_extension": ".py",
   "mimetype": "text/x-python",
   "name": "python",
   "nbconvert_exporter": "python",
   "pygments_lexer": "ipython3",
   "version": "3.7.12"
  }
 },
 "nbformat": 4,
 "nbformat_minor": 5
}
